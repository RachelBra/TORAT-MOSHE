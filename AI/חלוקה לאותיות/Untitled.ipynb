{
 "cells": [
  {
   "cell_type": "code",
   "execution_count": 7,
   "id": "8f470cdc",
   "metadata": {},
   "outputs": [
    {
     "name": "stdout",
     "output_type": "stream",
     "text": [
      "<class 'NoneType'>\n"
     ]
    },
    {
     "ename": "AttributeError",
     "evalue": "'NoneType' object has no attribute 'copy'",
     "output_type": "error",
     "traceback": [
      "\u001b[1;31m---------------------------------------------------------------------------\u001b[0m",
      "\u001b[1;31mAttributeError\u001b[0m                            Traceback (most recent call last)",
      "Cell \u001b[1;32mIn[7], line 84\u001b[0m\n\u001b[0;32m     82\u001b[0m \u001b[38;5;66;03m# Example usage\u001b[39;00m\n\u001b[0;32m     83\u001b[0m image_path \u001b[38;5;241m=\u001b[39m \u001b[38;5;124mr\u001b[39m\u001b[38;5;124m'\u001b[39m\u001b[38;5;124mD:\u001b[39m\u001b[38;5;124m\\\u001b[39m\u001b[38;5;124mUsers\u001b[39m\u001b[38;5;124m\\\u001b[39m\u001b[38;5;124mUser\u001b[39m\u001b[38;5;124m\\\u001b[39m\u001b[38;5;124mDesktop\u001b[39m\u001b[38;5;124m\\\u001b[39m\u001b[38;5;124mToratMoshe\u001b[39m\u001b[38;5;124m\\\u001b[39m\u001b[38;5;124mprojectWithTamar\u001b[39m\u001b[38;5;124m\\\u001b[39m\u001b[38;5;124mnodeJS\u001b[39m\u001b[38;5;124m\\\u001b[39m\u001b[38;5;124mimages\u001b[39m\u001b[38;5;124m'\u001b[39m\n\u001b[1;32m---> 84\u001b[0m \u001b[43mocr_text_detection\u001b[49m\u001b[43m(\u001b[49m\u001b[43mimage_path\u001b[49m\u001b[43m)\u001b[49m\n",
      "Cell \u001b[1;32mIn[7], line 23\u001b[0m, in \u001b[0;36mocr_text_detection\u001b[1;34m(image_path)\u001b[0m\n\u001b[0;32m     21\u001b[0m image \u001b[38;5;241m=\u001b[39m cv2\u001b[38;5;241m.\u001b[39mimread(image_path)\n\u001b[0;32m     22\u001b[0m \u001b[38;5;28mprint\u001b[39m(\u001b[38;5;28mtype\u001b[39m(image))\n\u001b[1;32m---> 23\u001b[0m orig_image \u001b[38;5;241m=\u001b[39m \u001b[43mimage\u001b[49m\u001b[38;5;241;43m.\u001b[39;49m\u001b[43mcopy\u001b[49m\n\u001b[0;32m     25\u001b[0m \u001b[38;5;66;03m# Preprocess the image for text detection\u001b[39;00m\n\u001b[0;32m     26\u001b[0m height, width, _ \u001b[38;5;241m=\u001b[39m image\u001b[38;5;241m.\u001b[39mshape\n",
      "\u001b[1;31mAttributeError\u001b[0m: 'NoneType' object has no attribute 'copy'"
     ]
    }
   ],
   "source": [
    "import cv2\n",
    "import pytesseract\n",
    "\n",
    "# Function to perform OCR-based text detection and segmentation\n",
    "def ocr_text_detection(image_path):\n",
    "    # Read the image\n",
    "    image = cv2.imread(image_path)\n",
    "    print(type(image))\n",
    "    orig_image = image.copy()\n",
    "\n",
    "    # Preprocess the image for text detection\n",
    "    height, width, _ = image.shape\n",
    "    new_width = 320\n",
    "    new_height = int(new_width / width * height)\n",
    "    image = cv2.resize(image, (new_width, new_height))\n",
    "    blob = cv2.dnn.blobFromImage(image, 1.0, (new_width, new_height), (123.68, 116.78, 103.94), True, False)\n",
    "\n",
    "# Function to perform OCR-based text detection and segmentation\n",
    "def ocr_text_detection(image_path):\n",
    "    # Read the image\n",
    "    image = cv2.imread(image_path)\n",
    "    print(type(image))\n",
    "    orig_image = image.copy\n",
    "\n",
    "    # Preprocess the image for text detection\n",
    "    height, width, _ = image.shape\n",
    "    new_width = 320\n",
    "    new_height = int(new_width / width * height)\n",
    "    image = cv2.resize(image, (new_width, new_height))\n",
    "    blob = cv2.dnn.blobFromImage(image, 1.0, (new_width, new_height), (123.68, 116.78, 103.94), True, False)\n",
    "\n",
    "    # Load the pre-trained EAST text detector model\n",
    "    model_file = \"frozen_east_text_detection.pb\"  # Replace with the full path to the downloaded model file\n",
    "    net = cv2.dnn.readNet(model_file)\n",
    "\n",
    "    # Set the output layer names for the EAST model\n",
    "    layer_names = [\n",
    "        \"feature_fusion/Conv_7/Sigmoid\",\n",
    "        \"feature_fusion/concat_3\"\n",
    "    ]\n",
    "\n",
    "    # Set the output layer names for the EAST model\n",
    "    layer_names = [\n",
    "        \"feature_fusion/Conv_7/Sigmoid\",\n",
    "        \"feature_fusion/concat_3\"\n",
    "    ]\n",
    "\n",
    "    # Forward pass to obtain the output predictions\n",
    "    net.setInput(blob)\n",
    "    scores, geometry = net.forward(layer_names)\n",
    "\n",
    "    # Post-process the predictions to obtain the bounding boxes\n",
    "    rectangles, confidences = cv2.dnn.NMSBoxesRotated(\n",
    "        boxes=np.array(geometry[0]),\n",
    "        scores=scores[0],\n",
    "        score_threshold=0.5,\n",
    "        nms_threshold=0.4\n",
    "    )\n",
    "\n",
    "    # Extract and recognize the text in each detected bounding box\n",
    "    for rect, confidence in zip(rectangles, confidences):\n",
    "        # Get the coordinates of the rotated bounding box\n",
    "        vertices = cv2.boxPoints(rect)\n",
    "        vertices = np.int0(vertices)\n",
    "\n",
    "        # Get the ROI (region of interest) from the original image\n",
    "        x, y, w, h = cv2.boundingRect(vertices)\n",
    "        roi = orig_image[y:y + h, x:x + w]\n",
    "\n",
    "        # Perform OCR on the ROI to recognize text\n",
    "        text = pytesseract.image_to_string(roi, lang='eng')\n",
    "\n",
    "        # Display the detected text and bounding box\n",
    "        cv2.putText(orig_image, text, (x, y - 10), cv2.FONT_HERSHEY_SIMPLEX, 0.5, (0, 0, 255), 1)\n",
    "        cv2.polylines(orig_image, [vertices], isClosed=True, color=(0, 255, 0), thickness=1)\n",
    "\n",
    "    # Display the original image with detected text\n",
    "    cv2.imshow(\"OCR Text Detection\", orig_image)\n",
    "    cv2.waitKey(0)\n",
    "    cv2.destroyAllWindows()\n",
    "\n",
    "# Example usage\n",
    "image_path = r'D:\\Users\\User\\Desktop\\ToratMoshe\\projectWithTamar\\nodeJS\\images'\n",
    "ocr_text_detection(image_path)\n"
   ]
  },
  {
   "cell_type": "code",
   "execution_count": null,
   "id": "c72b132e",
   "metadata": {},
   "outputs": [],
   "source": []
  }
 ],
 "metadata": {
  "kernelspec": {
   "display_name": "Python 3",
   "language": "python",
   "name": "python3"
  },
  "language_info": {
   "codemirror_mode": {
    "name": "ipython",
    "version": 3
   },
   "file_extension": ".py",
   "mimetype": "text/x-python",
   "name": "python",
   "nbconvert_exporter": "python",
   "pygments_lexer": "ipython3",
   "version": "3.10.9"
  }
 },
 "nbformat": 4,
 "nbformat_minor": 5
}
