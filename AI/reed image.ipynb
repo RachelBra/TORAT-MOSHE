{
 "cells": [
  {
   "cell_type": "code",
   "execution_count": null,
   "id": "cb3bb278",
   "metadata": {},
   "outputs": [],
   "source": [
    "import os\n",
    "from flask import Flask, request, jsonify\n",
    "from PIL import Image\n",
    "import numpy as np\n",
    "import tensorflow as tf\n",
    "from tensorflow.keras.models import load_model\n",
    "\n",
    "app = Flask(__name__)\n",
    "\n",
    "# Load the pre-trained model\n",
    "model = load_model('handwriting_model.h5')\n",
    "\n",
    "# Define a function to perform handwriting recognition\n",
    "def recognize_handwriting(img_path):\n",
    "    img = Image.open(img_path).convert('L')  # Convert to grayscale\n",
    "    img = img.resize((width, height))  # Resize to match the input size of the model\n",
    "    img_array = np.array(img)  # Convert image to numpy array\n",
    "    img_array = img_array.astype('float32') / 255.0  # Normalize pixel values\n",
    "\n",
    "    # Expand dimensions to match the input shape of the model\n",
    "    img_array = np.expand_dims(img_array, axis=0)\n",
    "    img_array = np.expand_dims(img_array, axis=-1)\n",
    "\n",
    "    # Perform handwriting recognition using the model\n",
    "    prediction = model.predict(img_array)\n",
    "    transcription = chr(np.argmax(prediction) + ord('A'))  # Assuming the model recognizes capital letters A-Z\n",
    "\n",
    "    return transcription\n",
    "\n",
    "@app.route('/recognize', methods=['POST'])\n",
    "def recognize():\n",
    "    if 'image' not in request.files:\n",
    "        return jsonify({'error': 'No image found in the request.'}), 400\n",
    "\n",
    "    image = request.files['image']\n",
    "    if image.filename == '':\n",
    "        return jsonify({'error': 'No image selected.'}), 400\n",
    "\n",
    "    image_path = os.path.join('uploads', image.filename)\n",
    "    image.save(image_path)\n",
    "\n",
    "    transcription = recognize_handwriting(image_path)\n",
    "\n",
    "    # Remove the uploaded image after recognition\n",
    "    os.remove(image_path)\n",
    "\n",
    "    return jsonify({'transcription': transcription})\n",
    "\n",
    "if __name__ == '__main__':\n",
    "    width = ...  # Width of the input image for the model\n",
    "    height = ...  # Height of the input image for the model\n",
    "\n",
    "    app.run(debug=True)  # Set debug=False in production\n"
   ]
  },
  {
   "cell_type": "code",
   "execution_count": 1,
   "id": "69ba564c",
   "metadata": {},
   "outputs": [
    {
     "name": "stdout",
     "output_type": "stream",
     "text": [
      "Note: you may need to restart the kernel to use updated packages.\n"
     ]
    },
    {
     "name": "stderr",
     "output_type": "stream",
     "text": [
      "WARNING: Retrying (Retry(total=4, connect=None, read=None, redirect=None, status=None)) after connection broken by 'NewConnectionError('<pip._vendor.urllib3.connection.HTTPSConnection object at 0x000001553CE5D1E0>: Failed to establish a new connection: [Errno 11001] getaddrinfo failed')': /simple/flask/\n",
      "WARNING: Retrying (Retry(total=3, connect=None, read=None, redirect=None, status=None)) after connection broken by 'NewConnectionError('<pip._vendor.urllib3.connection.HTTPSConnection object at 0x000001553CE5D510>: Failed to establish a new connection: [Errno 11001] getaddrinfo failed')': /simple/flask/\n",
      "WARNING: Retrying (Retry(total=2, connect=None, read=None, redirect=None, status=None)) after connection broken by 'NewConnectionError('<pip._vendor.urllib3.connection.HTTPSConnection object at 0x000001553CE5D840>: Failed to establish a new connection: [Errno 11001] getaddrinfo failed')': /simple/flask/\n",
      "WARNING: Retrying (Retry(total=1, connect=None, read=None, redirect=None, status=None)) after connection broken by 'NewConnectionError('<pip._vendor.urllib3.connection.HTTPSConnection object at 0x000001553CE5D9F0>: Failed to establish a new connection: [Errno 11001] getaddrinfo failed')': /simple/flask/\n",
      "WARNING: Retrying (Retry(total=0, connect=None, read=None, redirect=None, status=None)) after connection broken by 'NewConnectionError('<pip._vendor.urllib3.connection.HTTPSConnection object at 0x000001553CE5DBA0>: Failed to establish a new connection: [Errno 11001] getaddrinfo failed')': /simple/flask/\n",
      "ERROR: Could not find a version that satisfies the requirement flask (from versions: none)\n",
      "ERROR: No matching distribution found for flask\n"
     ]
    }
   ],
   "source": [
    "pip install flask\n"
   ]
  },
  {
   "cell_type": "code",
   "execution_count": null,
   "id": "1c1c36e4",
   "metadata": {},
   "outputs": [],
   "source": []
  }
 ],
 "metadata": {
  "kernelspec": {
   "display_name": "Python 3",
   "language": "python",
   "name": "python3"
  },
  "language_info": {
   "codemirror_mode": {
    "name": "ipython",
    "version": 3
   },
   "file_extension": ".py",
   "mimetype": "text/x-python",
   "name": "python",
   "nbconvert_exporter": "python",
   "pygments_lexer": "ipython3",
   "version": "3.10.9"
  }
 },
 "nbformat": 4,
 "nbformat_minor": 5
}
