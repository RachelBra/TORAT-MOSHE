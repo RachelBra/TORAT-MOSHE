{
 "cells": [
  {
   "cell_type": "code",
   "execution_count": null,
   "id": "b615ea98",
   "metadata": {},
   "outputs": [],
   "source": [
    "import tkinter as tk\n",
    "from tkinter import filedialog\n",
    "from PIL import Image, ImageTk\n",
    "import numpy as np\n",
    "import tensorflow as tf\n",
    "from tensorflow.keras.models import load_model\n",
    "\n",
    "# Load the pre-trained model\n",
    "model = load_model('handwriting_model.h5')\n",
    "\n",
    "# Define a function to preprocess the user input image and perform recognition\n",
    "def recognize_handwriting():\n",
    "    # Ask the user to select an image\n",
    "    file_path = filedialog.askopenfilename()\n",
    "    \n",
    "    # Load the selected image\n",
    "    img = Image.open(file_path).convert('L')  # Convert to grayscale\n",
    "    img = img.resize((width, height))  # Resize to match the input size of the model\n",
    "    img_array = np.array(img)  # Convert image to numpy array\n",
    "    img_array = img_array.astype('float32') / 255.0  # Normalize pixel values\n",
    "\n",
    "    # Expand dimensions to match the input shape of the model\n",
    "    img_array = np.expand_dims(img_array, axis=0)\n",
    "    img_array = np.expand_dims(img_array, axis=-1)\n",
    "\n",
    "    # Perform handwriting recognition using the model\n",
    "    prediction = model.predict(img_array)\n",
    "    transcription = chr(np.argmax(prediction) + ord('A'))  # Assuming the model recognizes capital letters A-Z\n",
    "\n",
    "    # Display the transcription\n",
    "    transcription_label.config(text=f'Transcription: {transcription}')\n",
    "\n",
    "# Create the main GUI window\n",
    "window = tk.Tk()\n",
    "window.title('Handwriting Recognition')\n",
    "\n",
    "# Create a canvas to display the selected image\n",
    "canvas = tk.Canvas(window, width=width, height=height)\n",
    "canvas.pack()\n",
    "\n",
    "# Create a label to display the transcription\n",
    "transcription_label = tk.Label(window, text='', font=('Arial', 16))\n",
    "transcription_label.pack()\n",
    "\n",
    "# Create a button to select the image for recognition\n",
    "select_button = tk.Button(window, text='Select Image', command=recognize_handwriting)\n",
    "select_button.pack()\n",
    "\n",
    "window.mainloop()\n"
   ]
  }
 ],
 "metadata": {
  "kernelspec": {
   "display_name": "Python 3",
   "language": "python",
   "name": "python3"
  },
  "language_info": {
   "codemirror_mode": {
    "name": "ipython",
    "version": 3
   },
   "file_extension": ".py",
   "mimetype": "text/x-python",
   "name": "python",
   "nbconvert_exporter": "python",
   "pygments_lexer": "ipython3",
   "version": "3.10.9"
  }
 },
 "nbformat": 4,
 "nbformat_minor": 5
}
